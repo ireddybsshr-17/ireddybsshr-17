{
  "nbformat": 4,
  "nbformat_minor": 0,
  "metadata": {
    "colab": {
      "provenance": [],
      "include_colab_link": true
    },
    "kernelspec": {
      "display_name": "Python 3",
      "name": "python3"
    },
    "language_info": {
      "name": "python"
    },
    "accelerator": "GPU"
  },
  "cells": [
    {
      "cell_type": "markdown",
      "metadata": {
        "id": "view-in-github",
        "colab_type": "text"
      },
      "source": [
        "<a href=\"https://colab.research.google.com/github/ireddybsshr-17/ireddybsshr-17/blob/main/Social_Media_Sentiment_Analysis_ML_project.ipynb\" target=\"_parent\"><img src=\"https://colab.research.google.com/assets/colab-badge.svg\" alt=\"Open In Colab\"/></a>"
      ]
    },
    {
      "cell_type": "markdown",
      "metadata": {
        "id": "AiG252UCj8bC"
      },
      "source": [
        "IMPORTING NECESSARY LIBRARIES"
      ]
    },
    {
      "cell_type": "code",
      "metadata": {
        "id": "jONGjBU7V2O8"
      },
      "source": [
        "import numpy as np\n",
        "import matplotlib.pyplot as plt\n",
        "import seaborn as sns\n",
        "import pandas as pd\n",
        "import json\n",
        "import random"
      ],
      "execution_count": 19,
      "outputs": []
    },
    {
      "cell_type": "markdown",
      "metadata": {
        "id": "JFEwrFEgkDjP"
      },
      "source": [
        "DEFINING NECESSARY CLASSES"
      ]
    },
    {
      "cell_type": "code",
      "metadata": {
        "id": "py_UauMAWcWh"
      },
      "source": [
        "class Sentiment:\n",
        "  negative=\"NEGATIVE\"\n",
        "  positive=\"POSITIVE\"\n",
        "class Review:\n",
        "  def __init__(self,text,score):\n",
        "    self.text=text\n",
        "    self.score=score\n",
        "    self.sentiment=self.get_sentiment()\n",
        "  def get_sentiment(self):\n",
        "    if self.score<3:\n",
        "      return Sentiment.negative\n",
        "    else:#when score is 3 or 4 or 5\n",
        "      return Sentiment.positive\n",
        "class ReviewContainer:\n",
        "  def __init__(self,reviews):\n",
        "    self.reviews=reviews\n",
        "  def evenly_distibute(self):\n",
        "    negative=list(filter(lambda x:x.sentiment==Sentiment.negative,self.reviews))\n",
        "    positive=list(filter(lambda x:x.sentiment==Sentiment.positive,self.reviews))\n",
        "    #as data contains more positive data sets,we will reduce them into number of negative one's for better accuracy\n",
        "    positive_shrunk=positive[:len(negative)]\n",
        "    self.reviews=negative+positive_shrunk\n",
        "    random.shuffle(self.reviews)"
      ],
      "execution_count": 20,
      "outputs": []
    },
    {
      "cell_type": "markdown",
      "metadata": {
        "id": "hIKUiPklkH6a"
      },
      "source": [
        "LOADING AND UNDERSTANDING DATA"
      ]
    },
    {
      "cell_type": "code",
      "metadata": {
        "id": "CJcQ7IbPWE84"
      },
      "source": [
        "reviews=[]\n",
        "with open(\"/content/Books_small_10000.json\") as f:\n",
        "  for line in f:\n",
        "    review_json=json.loads(line)\n",
        "    review=Review(review_json['reviewText'], review_json['overall'])\n",
        "    reviews.append(review)"
      ],
      "execution_count": 21,
      "outputs": []
    },
    {
      "cell_type": "code",
      "metadata": {
        "colab": {
          "base_uri": "https://localhost:8080/",
          "height": 35
        },
        "id": "R46HEddHWZAJ",
        "outputId": "01c2e166-29b6-406b-f8e1-67453d35d5e8"
      },
      "source": [
        "reviews[7].text\n",
        "reviews[7].score\n",
        "reviews[7].sentiment"
      ],
      "execution_count": 22,
      "outputs": [
        {
          "output_type": "execute_result",
          "data": {
            "text/plain": [
              "'POSITIVE'"
            ],
            "application/vnd.google.colaboratory.intrinsic+json": {
              "type": "string"
            }
          },
          "metadata": {},
          "execution_count": 22
        }
      ]
    },
    {
      "cell_type": "code",
      "metadata": {
        "id": "8rmlxNszXazc"
      },
      "source": [
        "from sklearn.model_selection import train_test_split\n",
        "training,testing=train_test_split(reviews,test_size=0.33)"
      ],
      "execution_count": 23,
      "outputs": []
    },
    {
      "cell_type": "code",
      "metadata": {
        "colab": {
          "base_uri": "https://localhost:8080/"
        },
        "id": "-j92mOz5Wkwj",
        "outputId": "449b6ca4-ddda-48b1-9223-9474b6b3fa9c"
      },
      "source": [
        "len(training)\n",
        "len(testing)"
      ],
      "execution_count": 24,
      "outputs": [
        {
          "output_type": "execute_result",
          "data": {
            "text/plain": [
              "3300"
            ]
          },
          "metadata": {},
          "execution_count": 24
        }
      ]
    },
    {
      "cell_type": "code",
      "metadata": {
        "id": "e3tZUMy5QHiG"
      },
      "source": [
        "#evenly distributing data for better accuracies\n",
        "traincontainer=ReviewContainer(training)\n",
        "traincontainer.evenly_distibute()\n",
        "testcontainer=ReviewContainer(testing)\n",
        "testcontainer.evenly_distibute()"
      ],
      "execution_count": 15,
      "outputs": []
    },
    {
      "cell_type": "code",
      "metadata": {
        "id": "Q1VuiZtzXra6"
      },
      "source": [
        "#splitting data\n",
        "x_train=[x.text for x in traincontainer.reviews]\n",
        "x_test=[x.text for x in testcontainer.reviews]\n",
        "y_train=[y.sentiment for y in traincontainer.reviews]\n",
        "y_test=[y.sentiment for y in testcontainer.reviews]"
      ],
      "execution_count": 25,
      "outputs": []
    },
    {
      "cell_type": "code",
      "metadata": {
        "colab": {
          "base_uri": "https://localhost:8080/"
        },
        "id": "cRvtjavLW2QV",
        "outputId": "e2a91e70-dbc3-47d8-90dd-ffc317b72232"
      },
      "source": [
        "y_train.count(Sentiment.positive)\n",
        "y_train.count(Sentiment.negative)\n"
      ],
      "execution_count": 27,
      "outputs": [
        {
          "output_type": "execute_result",
          "data": {
            "text/plain": [
              "434"
            ]
          },
          "metadata": {},
          "execution_count": 27
        }
      ]
    },
    {
      "cell_type": "code",
      "metadata": {
        "id": "QYchaEcHZpz0"
      },
      "source": [
        "#here we can also use count vectorizer but ,tfidf vectorizer best suits the problem\n",
        "from sklearn.feature_extraction.text import TfidfVectorizer\n",
        "vectorizer=TfidfVectorizer()\n",
        "x_train_vector=vectorizer.fit_transform(x_train)\n",
        "x_test_vector=vectorizer.transform(x_test)"
      ],
      "execution_count": 28,
      "outputs": []
    },
    {
      "cell_type": "markdown",
      "metadata": {
        "id": "o9CbP4JkkmW7"
      },
      "source": [
        "SUPPORT VECTOR MACHINES"
      ]
    },
    {
      "cell_type": "code",
      "metadata": {
        "colab": {
          "base_uri": "https://localhost:8080/"
        },
        "id": "rhK236EDaoLc",
        "outputId": "78cb08ec-b7de-4751-ff58-ebe0ccfb8106"
      },
      "source": [
        "from sklearn.svm import SVC\n",
        "clf_svm=SVC()\n",
        "clf_svm.fit(x_train_vector,y_train)\n",
        "y_pred=clf_svm.predict(x_test_vector)\n",
        "\n",
        "from sklearn.metrics import accuracy_score,f1_score\n",
        "clf_svm_score=accuracy_score(y_test,y_pred)\n",
        "print(accuracy_score(y_test,y_pred))\n",
        "print(f1_score(y_test,y_pred,average=None,labels=[Sentiment.positive,Sentiment.negative]))"
      ],
      "execution_count": 29,
      "outputs": [
        {
          "output_type": "stream",
          "name": "stdout",
          "text": [
            "0.8142857142857143\n",
            "[0.80597015 0.82191781]\n"
          ]
        }
      ]
    },
    {
      "cell_type": "markdown",
      "metadata": {
        "id": "yxtvwpo_krD4"
      },
      "source": [
        "DECISION TREES"
      ]
    },
    {
      "cell_type": "code",
      "metadata": {
        "colab": {
          "base_uri": "https://localhost:8080/"
        },
        "id": "AddEiSWXeq3U",
        "outputId": "f4c9abc6-973c-48d4-cd88-132e374ca319"
      },
      "source": [
        "from sklearn.tree import DecisionTreeClassifier\n",
        "clf_dec=DecisionTreeClassifier()\n",
        "clf_dec.fit(x_train_vector,y_train)\n",
        "y_pred=clf_dec.predict(x_test_vector)\n",
        "\n",
        "from sklearn.metrics import accuracy_score,f1_score\n",
        "clf_dec_score=accuracy_score(y_test,y_pred)\n",
        "print(accuracy_score(y_test,y_pred))\n",
        "print(f1_score(y_test,y_pred,average=None,labels=[Sentiment.positive,Sentiment.negative]))"
      ],
      "execution_count": 30,
      "outputs": [
        {
          "output_type": "stream",
          "name": "stdout",
          "text": [
            "0.6738095238095239\n",
            "[0.66666667 0.68065268]\n"
          ]
        }
      ]
    },
    {
      "cell_type": "markdown",
      "metadata": {
        "id": "mDFhCka7kuSo"
      },
      "source": [
        "LOGISTIC REGRESSION"
      ]
    },
    {
      "cell_type": "code",
      "metadata": {
        "colab": {
          "base_uri": "https://localhost:8080/"
        },
        "id": "EdFFD4QeerbS",
        "outputId": "9a66b0c8-84cc-47fd-c0ea-ac5e31944ce0"
      },
      "source": [
        "from sklearn.linear_model import LogisticRegression\n",
        "clf_log=LogisticRegression()\n",
        "clf_log.fit(x_train_vector,y_train)\n",
        "y_pred=clf_log.predict(x_test_vector)\n",
        "\n",
        "from sklearn.metrics import accuracy_score,f1_score\n",
        "clf_log_score=accuracy_score(y_test,y_pred)\n",
        "print(accuracy_score(y_test,y_pred))\n",
        "print(f1_score(y_test,y_pred,average=None,labels=[Sentiment.positive,Sentiment.negative]))"
      ],
      "execution_count": 32,
      "outputs": [
        {
          "output_type": "stream",
          "name": "stdout",
          "text": [
            "0.7928571428571428\n",
            "[0.78832117 0.7972028 ]\n"
          ]
        }
      ]
    },
    {
      "cell_type": "markdown",
      "metadata": {
        "id": "4dPyEgoFm5Kx"
      },
      "source": [
        "from the above calculations,we can clearly say that logistic regression best suits the problem"
      ]
    },
    {
      "cell_type": "code",
      "metadata": {
        "colab": {
          "base_uri": "https://localhost:8080/"
        },
        "id": "KEKjRcn4ecQJ",
        "outputId": "fd7ea349-7c85-419e-f4d2-a096f0ba6b63"
      },
      "source": [
        "#predicting few random samples whether positive or negative\n",
        "clf_log.predict(vectorizer.transform([\"very bad\",\"i loved it\",\"awesome\",\"worst one\"]))"
      ],
      "execution_count": null,
      "outputs": [
        {
          "output_type": "execute_result",
          "data": {
            "text/plain": [
              "array(['NEGATIVE', 'POSITIVE', 'POSITIVE', 'NEGATIVE'], dtype='<U8')"
            ]
          },
          "metadata": {
            "tags": []
          },
          "execution_count": 17
        }
      ]
    }
  ]
}